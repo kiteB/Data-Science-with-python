{
 "cells": [
  {
   "cell_type": "code",
   "execution_count": 1,
   "metadata": {},
   "outputs": [],
   "source": [
    "import pandas as pd"
   ]
  },
  {
   "cell_type": "code",
   "execution_count": 2,
   "metadata": {},
   "outputs": [],
   "source": [
    "df = pd.read_csv('museum.csv')"
   ]
  },
  {
   "cell_type": "code",
   "execution_count": 3,
   "metadata": {},
   "outputs": [
    {
     "data": {
      "text/html": [
       "<div>\n",
       "<style scoped>\n",
       "    .dataframe tbody tr th:only-of-type {\n",
       "        vertical-align: middle;\n",
       "    }\n",
       "\n",
       "    .dataframe tbody tr th {\n",
       "        vertical-align: top;\n",
       "    }\n",
       "\n",
       "    .dataframe thead th {\n",
       "        text-align: right;\n",
       "    }\n",
       "</style>\n",
       "<table border=\"1\" class=\"dataframe\">\n",
       "  <thead>\n",
       "    <tr style=\"text-align: right;\">\n",
       "      <th></th>\n",
       "      <th>시설명</th>\n",
       "      <th>어른관람료</th>\n",
       "      <th>운영기관전화번호</th>\n",
       "    </tr>\n",
       "  </thead>\n",
       "  <tbody>\n",
       "    <tr>\n",
       "      <th>0</th>\n",
       "      <td>필암서원 유물전시관</td>\n",
       "      <td>500</td>\n",
       "      <td>061-390-7224</td>\n",
       "    </tr>\n",
       "    <tr>\n",
       "      <th>1</th>\n",
       "      <td>원주역사박물관</td>\n",
       "      <td>0</td>\n",
       "      <td>033-737-4371</td>\n",
       "    </tr>\n",
       "    <tr>\n",
       "      <th>2</th>\n",
       "      <td>뮤지엄산미술관</td>\n",
       "      <td>15000</td>\n",
       "      <td>033-730-9000</td>\n",
       "    </tr>\n",
       "    <tr>\n",
       "      <th>3</th>\n",
       "      <td>오랜미래신화미술관</td>\n",
       "      <td>0</td>\n",
       "      <td>033-746-5256</td>\n",
       "    </tr>\n",
       "    <tr>\n",
       "      <th>4</th>\n",
       "      <td>연세대학교 원주박물관</td>\n",
       "      <td>0</td>\n",
       "      <td>033-760-2731</td>\n",
       "    </tr>\n",
       "  </tbody>\n",
       "</table>\n",
       "</div>"
      ],
      "text/plain": [
       "           시설명  어른관람료      운영기관전화번호\n",
       "0   필암서원 유물전시관    500  061-390-7224\n",
       "1      원주역사박물관      0  033-737-4371\n",
       "2      뮤지엄산미술관  15000  033-730-9000\n",
       "3    오랜미래신화미술관      0  033-746-5256\n",
       "4  연세대학교 원주박물관      0  033-760-2731"
      ]
     },
     "execution_count": 3,
     "metadata": {},
     "output_type": "execute_result"
    }
   ],
   "source": [
    "df.head()"
   ]
  },
  {
   "cell_type": "code",
   "execution_count": 4,
   "metadata": {},
   "outputs": [
    {
     "data": {
      "text/plain": [
       "0      False\n",
       "1      False\n",
       "2      False\n",
       "3      False\n",
       "4       True\n",
       "       ...  \n",
       "895    False\n",
       "896    False\n",
       "897    False\n",
       "898    False\n",
       "899    False\n",
       "Name: 시설명, Length: 900, dtype: bool"
      ]
     },
     "execution_count": 4,
     "metadata": {},
     "output_type": "execute_result"
    }
   ],
   "source": [
    "is_university = df['시설명'].str.contains('대학교')\n",
    "is_university"
   ]
  },
  {
   "cell_type": "code",
   "execution_count": 5,
   "metadata": {},
   "outputs": [],
   "source": [
    "df.loc[is_university == True, '분류'] = '대학'\n",
    "df.loc[is_university == False, '분류'] = '일반'"
   ]
  },
  {
   "cell_type": "code",
   "execution_count": 6,
   "metadata": {},
   "outputs": [
    {
     "data": {
      "text/html": [
       "<div>\n",
       "<style scoped>\n",
       "    .dataframe tbody tr th:only-of-type {\n",
       "        vertical-align: middle;\n",
       "    }\n",
       "\n",
       "    .dataframe tbody tr th {\n",
       "        vertical-align: top;\n",
       "    }\n",
       "\n",
       "    .dataframe thead th {\n",
       "        text-align: right;\n",
       "    }\n",
       "</style>\n",
       "<table border=\"1\" class=\"dataframe\">\n",
       "  <thead>\n",
       "    <tr style=\"text-align: right;\">\n",
       "      <th></th>\n",
       "      <th>시설명</th>\n",
       "      <th>어른관람료</th>\n",
       "      <th>운영기관전화번호</th>\n",
       "      <th>분류</th>\n",
       "    </tr>\n",
       "  </thead>\n",
       "  <tbody>\n",
       "    <tr>\n",
       "      <th>0</th>\n",
       "      <td>필암서원 유물전시관</td>\n",
       "      <td>500</td>\n",
       "      <td>061-390-7224</td>\n",
       "      <td>일반</td>\n",
       "    </tr>\n",
       "    <tr>\n",
       "      <th>1</th>\n",
       "      <td>원주역사박물관</td>\n",
       "      <td>0</td>\n",
       "      <td>033-737-4371</td>\n",
       "      <td>일반</td>\n",
       "    </tr>\n",
       "    <tr>\n",
       "      <th>2</th>\n",
       "      <td>뮤지엄산미술관</td>\n",
       "      <td>15000</td>\n",
       "      <td>033-730-9000</td>\n",
       "      <td>일반</td>\n",
       "    </tr>\n",
       "    <tr>\n",
       "      <th>3</th>\n",
       "      <td>오랜미래신화미술관</td>\n",
       "      <td>0</td>\n",
       "      <td>033-746-5256</td>\n",
       "      <td>일반</td>\n",
       "    </tr>\n",
       "    <tr>\n",
       "      <th>4</th>\n",
       "      <td>연세대학교 원주박물관</td>\n",
       "      <td>0</td>\n",
       "      <td>033-760-2731</td>\n",
       "      <td>대학</td>\n",
       "    </tr>\n",
       "    <tr>\n",
       "      <th>...</th>\n",
       "      <td>...</td>\n",
       "      <td>...</td>\n",
       "      <td>...</td>\n",
       "      <td>...</td>\n",
       "    </tr>\n",
       "    <tr>\n",
       "      <th>895</th>\n",
       "      <td>함양박물관</td>\n",
       "      <td>0</td>\n",
       "      <td>055-960-5532</td>\n",
       "      <td>일반</td>\n",
       "    </tr>\n",
       "    <tr>\n",
       "      <th>896</th>\n",
       "      <td>박물관수</td>\n",
       "      <td>5000</td>\n",
       "      <td>053-744-5500</td>\n",
       "      <td>일반</td>\n",
       "    </tr>\n",
       "    <tr>\n",
       "      <th>897</th>\n",
       "      <td>대구은행금융박물관</td>\n",
       "      <td>0</td>\n",
       "      <td>053-740-2061</td>\n",
       "      <td>일반</td>\n",
       "    </tr>\n",
       "    <tr>\n",
       "      <th>898</th>\n",
       "      <td>국립대구박물관</td>\n",
       "      <td>0</td>\n",
       "      <td>053-768-6051</td>\n",
       "      <td>일반</td>\n",
       "    </tr>\n",
       "    <tr>\n",
       "      <th>899</th>\n",
       "      <td>증평민속체험박물관</td>\n",
       "      <td>0</td>\n",
       "      <td>043-835-4161</td>\n",
       "      <td>일반</td>\n",
       "    </tr>\n",
       "  </tbody>\n",
       "</table>\n",
       "<p>900 rows × 4 columns</p>\n",
       "</div>"
      ],
      "text/plain": [
       "             시설명  어른관람료      운영기관전화번호  분류\n",
       "0     필암서원 유물전시관    500  061-390-7224  일반\n",
       "1        원주역사박물관      0  033-737-4371  일반\n",
       "2        뮤지엄산미술관  15000  033-730-9000  일반\n",
       "3      오랜미래신화미술관      0  033-746-5256  일반\n",
       "4    연세대학교 원주박물관      0  033-760-2731  대학\n",
       "..           ...    ...           ...  ..\n",
       "895        함양박물관      0  055-960-5532  일반\n",
       "896         박물관수   5000  053-744-5500  일반\n",
       "897    대구은행금융박물관      0  053-740-2061  일반\n",
       "898      국립대구박물관      0  053-768-6051  일반\n",
       "899    증평민속체험박물관      0  043-835-4161  일반\n",
       "\n",
       "[900 rows x 4 columns]"
      ]
     },
     "execution_count": 6,
     "metadata": {},
     "output_type": "execute_result"
    }
   ],
   "source": [
    "df"
   ]
  },
  {
   "cell_type": "code",
   "execution_count": null,
   "metadata": {},
   "outputs": [],
   "source": []
  }
 ],
 "metadata": {
  "kernelspec": {
   "display_name": "Python 3",
   "language": "python",
   "name": "python3"
  },
  "language_info": {
   "codemirror_mode": {
    "name": "ipython",
    "version": 3
   },
   "file_extension": ".py",
   "mimetype": "text/x-python",
   "name": "python",
   "nbconvert_exporter": "python",
   "pygments_lexer": "ipython3",
   "version": "3.8.3"
  }
 },
 "nbformat": 4,
 "nbformat_minor": 4
}
